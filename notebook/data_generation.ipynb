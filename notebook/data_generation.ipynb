{
 "cells": [
  {
   "cell_type": "code",
   "execution_count": 24,
   "metadata": {},
   "outputs": [
    {
     "name": "stdout",
     "output_type": "stream",
     "text": [
      "Defaulting to user installation because normal site-packages is not writeable\n",
      "Requirement already satisfied: pandas in c:\\users\\wasadmin\\appdata\\roaming\\python\\python312\\site-packages (2.2.2)\n",
      "Requirement already satisfied: numpy>=1.26.0 in c:\\users\\wasadmin\\appdata\\roaming\\python\\python312\\site-packages (from pandas) (1.26.4)\n",
      "Requirement already satisfied: python-dateutil>=2.8.2 in c:\\users\\wasadmin\\appdata\\roaming\\python\\python312\\site-packages (from pandas) (2.9.0.post0)\n",
      "Requirement already satisfied: pytz>=2020.1 in c:\\users\\wasadmin\\appdata\\roaming\\python\\python312\\site-packages (from pandas) (2024.1)\n",
      "Requirement already satisfied: tzdata>=2022.7 in c:\\users\\wasadmin\\appdata\\roaming\\python\\python312\\site-packages (from pandas) (2024.1)\n",
      "Requirement already satisfied: six>=1.5 in c:\\users\\wasadmin\\appdata\\roaming\\python\\python312\\site-packages (from python-dateutil>=2.8.2->pandas) (1.16.0)\n"
     ]
    },
    {
     "name": "stderr",
     "output_type": "stream",
     "text": [
      "\n",
      "[notice] A new release of pip is available: 24.0 -> 24.1.2\n",
      "[notice] To update, run: python.exe -m pip install --upgrade pip\n"
     ]
    },
    {
     "name": "stdout",
     "output_type": "stream",
     "text": [
      "Defaulting to user installation because normal site-packages is not writeable\n",
      "Requirement already satisfied: DateTime in c:\\users\\wasadmin\\appdata\\roaming\\python\\python312\\site-packages (5.5)\n",
      "Requirement already satisfied: zope.interface in c:\\users\\wasadmin\\appdata\\roaming\\python\\python312\\site-packages (from DateTime) (6.4.post2)\n",
      "Requirement already satisfied: pytz in c:\\users\\wasadmin\\appdata\\roaming\\python\\python312\\site-packages (from DateTime) (2024.1)\n",
      "Requirement already satisfied: setuptools in c:\\users\\wasadmin\\appdata\\roaming\\python\\python312\\site-packages (from zope.interface->DateTime) (70.3.0)\n"
     ]
    },
    {
     "name": "stderr",
     "output_type": "stream",
     "text": [
      "\n",
      "[notice] A new release of pip is available: 24.0 -> 24.1.2\n",
      "[notice] To update, run: python.exe -m pip install --upgrade pip\n"
     ]
    },
    {
     "name": "stdout",
     "output_type": "stream",
     "text": [
      "Defaulting to user installation because normal site-packages is not writeable\n",
      "Requirement already satisfied: numpy in c:\\users\\wasadmin\\appdata\\roaming\\python\\python312\\site-packages (1.26.4)\n"
     ]
    },
    {
     "name": "stderr",
     "output_type": "stream",
     "text": [
      "\n",
      "[notice] A new release of pip is available: 24.0 -> 24.1.2\n",
      "[notice] To update, run: python.exe -m pip install --upgrade pip\n"
     ]
    }
   ],
   "source": [
    "! pip install pandas\n",
    "! pip install DateTime\n",
    "! pip install numpy"
   ]
  },
  {
   "cell_type": "code",
   "execution_count": 25,
   "metadata": {},
   "outputs": [],
   "source": [
    "import json\n",
    "import random\n",
    "from datetime import datetime, timedelta\n",
    "import pandas as pd"
   ]
  },
  {
   "cell_type": "code",
   "execution_count": 26,
   "metadata": {},
   "outputs": [],
   "source": [
    "# Generate random dates within a specified range\n",
    "def generate_random_date(start_date, end_date):\n",
    "    time_between_dates = end_date - start_date\n",
    "    days_between_dates = time_between_dates.days\n",
    "    random_number_of_days = random.randrange(days_between_dates)\n",
    "    random_date = start_date + timedelta(days=random_number_of_days)\n",
    "    return random_date"
   ]
  },
  {
   "cell_type": "code",
   "execution_count": 27,
   "metadata": {},
   "outputs": [
    {
     "data": {
      "text/plain": [
       "[]"
      ]
     },
     "execution_count": 27,
     "metadata": {},
     "output_type": "execute_result"
    }
   ],
   "source": [
    "order_history = []\n",
    "order_history"
   ]
  },
  {
   "cell_type": "code",
   "execution_count": 28,
   "metadata": {},
   "outputs": [],
   "source": [
    "# Define date range for random date generation \n",
    "end_date = datetime.now()\n",
    "start_date = end_date - timedelta(days=180) "
   ]
  },
  {
   "cell_type": "code",
   "execution_count": 29,
   "metadata": {},
   "outputs": [],
   "source": [
    "# Load users and products data from JSON files\n",
    "with open('../mongo/users.json', 'r') as f:\n",
    "    users = json.load(f)\n",
    "\n",
    "with open('../mongo/products.json', 'r') as f:\n",
    "    products = json.load(f)"
   ]
  },
  {
   "cell_type": "code",
   "execution_count": 30,
   "metadata": {},
   "outputs": [],
   "source": [
    "num_orders = 100  # Number of orders to generate\n",
    "\n",
    "for _ in range(num_orders):\n",
    "    user = random.choice(users)\n",
    "    product = random.choice(products)\n",
    "    quantity = random.randint(1, 5)\n",
    "    order_date = datetime.now() - timedelta(days=random.randint(1, 365))\n",
    "\n",
    "    order_entry = {\n",
    "        'order_date': order_date,\n",
    "        'user_id': user['userid'],\n",
    "        'product_id': product['productID'],\n",
    "        'product_name': product['name'],\n",
    "        'product_category': product['category'],\n",
    "        'user_name': user['username']\n",
    "    }\n",
    "\n",
    "    order_history.append(order_entry)"
   ]
  },
  {
   "cell_type": "code",
   "execution_count": 31,
   "metadata": {},
   "outputs": [
    {
     "name": "stdout",
     "output_type": "stream",
     "text": [
      "Generated Order History:\n",
      "                  order_date     user_id  product_id      product_name  \\\n",
      "0 2023-08-14 11:40:12.934996  2200012364          13     City of Stars   \n",
      "1 2024-07-08 11:40:12.934996  2200012364           1    CarryAll Purse   \n",
      "2 2023-12-24 11:40:12.934996  3300024728          19  Run Away Sneaker   \n",
      "3 2024-03-12 11:40:12.934996  0006754277          10        Rider Boot   \n",
      "4 2024-06-11 11:40:12.934996  1000012364          19  Run Away Sneaker   \n",
      "\n",
      "  product_category      user_name  \n",
      "0         Perfumes  PinkUnicorn42  \n",
      "1         Handbags  PinkUnicorn42  \n",
      "2            Shoes   TechWizard88  \n",
      "3            Shoes    RosePetal22  \n",
      "4            Shoes  MermaidWish55  \n",
      "\n",
      "Order history saved to 'order_history.csv'\n"
     ]
    }
   ],
   "source": [
    "# Convert to DataFrame\n",
    "df = pd.DataFrame(order_history)\n",
    "\n",
    "# Display the first few rows of the generated data\n",
    "print(\"Generated Order History:\")\n",
    "print(df.head())\n",
    "\n",
    "# Save to CSV\n",
    "df.to_csv('order_history.csv', index=False)\n",
    "\n",
    "print(\"\\nOrder history saved to 'order_history.csv'\")"
   ]
  }
 ],
 "metadata": {
  "kernelspec": {
   "display_name": "Python 3",
   "language": "python",
   "name": "python3"
  },
  "language_info": {
   "codemirror_mode": {
    "name": "ipython",
    "version": 3
   },
   "file_extension": ".py",
   "mimetype": "text/x-python",
   "name": "python",
   "nbconvert_exporter": "python",
   "pygments_lexer": "ipython3",
   "version": "3.12.1"
  }
 },
 "nbformat": 4,
 "nbformat_minor": 2
}

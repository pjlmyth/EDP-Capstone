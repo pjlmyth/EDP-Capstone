{
 "cells": [
  {
   "cell_type": "code",
   "execution_count": 15,
   "metadata": {},
   "outputs": [
    {
     "name": "stdout",
     "output_type": "stream",
     "text": [
      "Requirement already satisfied: pandas in c:\\python312\\lib\\site-packages (2.1.3)\n",
      "Requirement already satisfied: numpy<2,>=1.26.0 in c:\\python312\\lib\\site-packages (from pandas) (1.26.2)\n",
      "Requirement already satisfied: python-dateutil>=2.8.2 in c:\\python312\\lib\\site-packages (from pandas) (2.8.2)\n",
      "Requirement already satisfied: pytz>=2020.1 in c:\\python312\\lib\\site-packages (from pandas) (2023.3.post1)\n",
      "Requirement already satisfied: tzdata>=2022.1 in c:\\python312\\lib\\site-packages (from pandas) (2023.3)\n",
      "Requirement already satisfied: six>=1.5 in c:\\python312\\lib\\site-packages (from python-dateutil>=2.8.2->pandas) (1.16.0)\n"
     ]
    },
    {
     "name": "stderr",
     "output_type": "stream",
     "text": [
      "\n",
      "[notice] A new release of pip is available: 23.3.2 -> 24.1.2\n",
      "[notice] To update, run: python.exe -m pip install --upgrade pip\n"
     ]
    },
    {
     "name": "stdout",
     "output_type": "stream",
     "text": [
      "Requirement already satisfied: DateTime in c:\\python312\\lib\\site-packages (5.5)\n",
      "Requirement already satisfied: zope.interface in c:\\python312\\lib\\site-packages (from DateTime) (6.4.post2)\n",
      "Requirement already satisfied: pytz in c:\\python312\\lib\\site-packages (from DateTime) (2023.3.post1)\n",
      "Requirement already satisfied: setuptools in c:\\python312\\lib\\site-packages (from zope.interface->DateTime) (70.3.0)\n"
     ]
    },
    {
     "name": "stderr",
     "output_type": "stream",
     "text": [
      "\n",
      "[notice] A new release of pip is available: 23.3.2 -> 24.1.2\n",
      "[notice] To update, run: python.exe -m pip install --upgrade pip\n"
     ]
    },
    {
     "name": "stdout",
     "output_type": "stream",
     "text": [
      "Requirement already satisfied: numpy in c:\\python312\\lib\\site-packages (1.26.2)\n"
     ]
    },
    {
     "name": "stderr",
     "output_type": "stream",
     "text": [
      "\n",
      "[notice] A new release of pip is available: 23.3.2 -> 24.1.2\n",
      "[notice] To update, run: python.exe -m pip install --upgrade pip\n"
     ]
    }
   ],
   "source": [
    "! pip install pandas\n",
    "! pip install DateTime\n",
    "! pip install numpy"
   ]
  },
  {
   "cell_type": "code",
   "execution_count": 16,
   "metadata": {},
   "outputs": [],
   "source": [
    "import json\n",
    "import random\n",
    "from datetime import datetime, timedelta\n",
    "import pandas as pd"
   ]
  },
  {
   "cell_type": "code",
   "execution_count": 17,
   "metadata": {},
   "outputs": [],
   "source": [
    "# Generate random dates within a specified range\n",
    "def generate_random_date(start_date, end_date):\n",
    "    time_between_dates = end_date - start_date\n",
    "    days_between_dates = time_between_dates.days\n",
    "    random_number_of_days = random.randrange(days_between_dates)\n",
    "    random_date = start_date + timedelta(days=random_number_of_days)\n",
    "    return random_date"
   ]
  },
  {
   "cell_type": "code",
   "execution_count": 18,
   "metadata": {},
   "outputs": [
    {
     "data": {
      "text/plain": [
       "[]"
      ]
     },
     "execution_count": 18,
     "metadata": {},
     "output_type": "execute_result"
    }
   ],
   "source": [
    "order_history = []\n",
    "order_history"
   ]
  },
  {
   "cell_type": "code",
   "execution_count": 19,
   "metadata": {},
   "outputs": [],
   "source": [
    "# Define date range for random date generation \n",
    "end_date = datetime.now()\n",
    "start_date = end_date - timedelta(days=180) "
   ]
  },
  {
   "cell_type": "code",
   "execution_count": 20,
   "metadata": {},
   "outputs": [],
   "source": [
    "# Load users and products data from JSON files\n",
    "with open('../mongo/users.json', 'r') as f:\n",
    "    users = json.load(f)\n",
    "\n",
    "with open('../mongo/products.json', 'r') as f:\n",
    "    products = json.load(f)"
   ]
  },
  {
   "cell_type": "code",
   "execution_count": 21,
   "metadata": {},
   "outputs": [],
   "source": [
    "num_orders = 100  # Number of orders to generate\n",
    "\n",
    "for _ in range(num_orders):\n",
    "    user = random.choice(users)\n",
    "    product = random.choice(products)\n",
    "    quantity = random.randint(1, 5)\n",
    "    order_date = datetime.now() - timedelta(days=random.randint(1, 365))\n",
    "\n",
    "    order_entry = {\n",
    "        'order_date': order_date,\n",
    "        'user_id': user['userid'],\n",
    "        'product_id': product['productID'],\n",
    "        'product_name': product['name'],\n",
    "        'product_category': product['category'],\n",
    "        'user_name': user['username']\n",
    "    }\n",
    "\n",
    "    order_history.append(order_entry)"
   ]
  },
  {
   "cell_type": "code",
   "execution_count": 22,
   "metadata": {},
   "outputs": [
    {
     "name": "stdout",
     "output_type": "stream",
     "text": [
      "Generated Order History:\n",
      "                  order_date     user_id  product_id       product_name  \\\n",
      "0 2024-05-28 11:42:03.040026  0006754277          16    KeepAll Handbag   \n",
      "1 2023-09-28 11:42:03.040026  2200012364           2     CarryAll Purse   \n",
      "2 2023-11-27 11:42:03.040026  2200012364          16    KeepAll Handbag   \n",
      "3 2024-07-11 11:42:03.040026  4563534676          14  Neverfull Handbag   \n",
      "4 2023-12-12 11:42:03.040026  1000012364           2         Camera Box   \n",
      "\n",
      "  product_category        user_name  \n",
      "0         Handbags      RosePetal22  \n",
      "1         Handbags    PinkUnicorn42  \n",
      "2         Handbags    PinkUnicorn42  \n",
      "3         Handbags  LavenderDream89  \n",
      "4         Handbags    MermaidWish55  \n",
      "\n",
      "Order history saved to 'order_history.csv'\n"
     ]
    }
   ],
   "source": [
    "# Convert to DataFrame\n",
    "df = pd.DataFrame(order_history)\n",
    "\n",
    "# Display the first few rows of the generated data\n",
    "print(\"Generated Order History:\")\n",
    "print(df.head())\n",
    "\n",
    "# Save to CSV\n",
    "df.to_csv('order_history.csv', index=False)\n",
    "\n",
    "print(\"\\nOrder history saved to 'order_history.csv'\")"
   ]
  },
  {
   "cell_type": "code",
   "execution_count": 23,
   "metadata": {},
   "outputs": [
    {
     "data": {
      "text/html": [
       "<div>\n",
       "<style scoped>\n",
       "    .dataframe tbody tr th:only-of-type {\n",
       "        vertical-align: middle;\n",
       "    }\n",
       "\n",
       "    .dataframe tbody tr th {\n",
       "        vertical-align: top;\n",
       "    }\n",
       "\n",
       "    .dataframe thead th {\n",
       "        text-align: right;\n",
       "    }\n",
       "</style>\n",
       "<table border=\"1\" class=\"dataframe\">\n",
       "  <thead>\n",
       "    <tr style=\"text-align: right;\">\n",
       "      <th></th>\n",
       "      <th>order_date</th>\n",
       "      <th>user_id</th>\n",
       "      <th>product_id</th>\n",
       "      <th>product_name</th>\n",
       "      <th>product_category</th>\n",
       "      <th>user_name</th>\n",
       "    </tr>\n",
       "  </thead>\n",
       "  <tbody>\n",
       "    <tr>\n",
       "      <th>0</th>\n",
       "      <td>2024-05-28 11:42:03.040026</td>\n",
       "      <td>0006754277</td>\n",
       "      <td>16</td>\n",
       "      <td>KeepAll Handbag</td>\n",
       "      <td>Handbags</td>\n",
       "      <td>RosePetal22</td>\n",
       "    </tr>\n",
       "    <tr>\n",
       "      <th>1</th>\n",
       "      <td>2023-09-28 11:42:03.040026</td>\n",
       "      <td>2200012364</td>\n",
       "      <td>2</td>\n",
       "      <td>CarryAll Purse</td>\n",
       "      <td>Handbags</td>\n",
       "      <td>PinkUnicorn42</td>\n",
       "    </tr>\n",
       "    <tr>\n",
       "      <th>2</th>\n",
       "      <td>2023-11-27 11:42:03.040026</td>\n",
       "      <td>2200012364</td>\n",
       "      <td>16</td>\n",
       "      <td>KeepAll Handbag</td>\n",
       "      <td>Handbags</td>\n",
       "      <td>PinkUnicorn42</td>\n",
       "    </tr>\n",
       "    <tr>\n",
       "      <th>3</th>\n",
       "      <td>2024-07-11 11:42:03.040026</td>\n",
       "      <td>4563534676</td>\n",
       "      <td>14</td>\n",
       "      <td>Neverfull Handbag</td>\n",
       "      <td>Handbags</td>\n",
       "      <td>LavenderDream89</td>\n",
       "    </tr>\n",
       "    <tr>\n",
       "      <th>4</th>\n",
       "      <td>2023-12-12 11:42:03.040026</td>\n",
       "      <td>1000012364</td>\n",
       "      <td>2</td>\n",
       "      <td>Camera Box</td>\n",
       "      <td>Handbags</td>\n",
       "      <td>MermaidWish55</td>\n",
       "    </tr>\n",
       "    <tr>\n",
       "      <th>...</th>\n",
       "      <td>...</td>\n",
       "      <td>...</td>\n",
       "      <td>...</td>\n",
       "      <td>...</td>\n",
       "      <td>...</td>\n",
       "      <td>...</td>\n",
       "    </tr>\n",
       "    <tr>\n",
       "      <th>95</th>\n",
       "      <td>2024-05-26 11:42:03.041026</td>\n",
       "      <td>0006754277</td>\n",
       "      <td>8</td>\n",
       "      <td>Shake Sandal</td>\n",
       "      <td>Shoes</td>\n",
       "      <td>RosePetal22</td>\n",
       "    </tr>\n",
       "    <tr>\n",
       "      <th>96</th>\n",
       "      <td>2024-01-17 11:42:03.041026</td>\n",
       "      <td>0006754277</td>\n",
       "      <td>15</td>\n",
       "      <td>OnTheGo Handbag</td>\n",
       "      <td>Handbags</td>\n",
       "      <td>RosePetal22</td>\n",
       "    </tr>\n",
       "    <tr>\n",
       "      <th>97</th>\n",
       "      <td>2023-08-23 11:42:03.041026</td>\n",
       "      <td>0000012364</td>\n",
       "      <td>13</td>\n",
       "      <td>Afternoon Swim Perfume</td>\n",
       "      <td>Perfumes</td>\n",
       "      <td>SapphireQueen7</td>\n",
       "    </tr>\n",
       "    <tr>\n",
       "      <th>98</th>\n",
       "      <td>2024-02-08 11:42:03.041026</td>\n",
       "      <td>4563534676</td>\n",
       "      <td>1</td>\n",
       "      <td>CarryAll Purse</td>\n",
       "      <td>Handbags</td>\n",
       "      <td>LavenderDream89</td>\n",
       "    </tr>\n",
       "    <tr>\n",
       "      <th>99</th>\n",
       "      <td>2024-01-18 11:42:03.041026</td>\n",
       "      <td>2200012364</td>\n",
       "      <td>14</td>\n",
       "      <td>Neverfull Handbag</td>\n",
       "      <td>Handbags</td>\n",
       "      <td>PinkUnicorn42</td>\n",
       "    </tr>\n",
       "  </tbody>\n",
       "</table>\n",
       "<p>100 rows × 6 columns</p>\n",
       "</div>"
      ],
      "text/plain": [
       "                   order_date     user_id  product_id            product_name  \\\n",
       "0  2024-05-28 11:42:03.040026  0006754277          16         KeepAll Handbag   \n",
       "1  2023-09-28 11:42:03.040026  2200012364           2          CarryAll Purse   \n",
       "2  2023-11-27 11:42:03.040026  2200012364          16         KeepAll Handbag   \n",
       "3  2024-07-11 11:42:03.040026  4563534676          14       Neverfull Handbag   \n",
       "4  2023-12-12 11:42:03.040026  1000012364           2              Camera Box   \n",
       "..                        ...         ...         ...                     ...   \n",
       "95 2024-05-26 11:42:03.041026  0006754277           8            Shake Sandal   \n",
       "96 2024-01-17 11:42:03.041026  0006754277          15         OnTheGo Handbag   \n",
       "97 2023-08-23 11:42:03.041026  0000012364          13  Afternoon Swim Perfume   \n",
       "98 2024-02-08 11:42:03.041026  4563534676           1          CarryAll Purse   \n",
       "99 2024-01-18 11:42:03.041026  2200012364          14       Neverfull Handbag   \n",
       "\n",
       "   product_category        user_name  \n",
       "0          Handbags      RosePetal22  \n",
       "1          Handbags    PinkUnicorn42  \n",
       "2          Handbags    PinkUnicorn42  \n",
       "3          Handbags  LavenderDream89  \n",
       "4          Handbags    MermaidWish55  \n",
       "..              ...              ...  \n",
       "95            Shoes      RosePetal22  \n",
       "96         Handbags      RosePetal22  \n",
       "97         Perfumes   SapphireQueen7  \n",
       "98         Handbags  LavenderDream89  \n",
       "99         Handbags    PinkUnicorn42  \n",
       "\n",
       "[100 rows x 6 columns]"
      ]
     },
     "execution_count": 23,
     "metadata": {},
     "output_type": "execute_result"
    }
   ],
   "source": [
    "df"
   ]
  }
 ],
 "metadata": {
  "kernelspec": {
   "display_name": "Python 3",
   "language": "python",
   "name": "python3"
  },
  "language_info": {
   "codemirror_mode": {
    "name": "ipython",
    "version": 3
   },
   "file_extension": ".py",
   "mimetype": "text/x-python",
   "name": "python",
   "nbconvert_exporter": "python",
   "pygments_lexer": "ipython3",
   "version": "3.12.1"
  }
 },
 "nbformat": 4,
 "nbformat_minor": 2
}

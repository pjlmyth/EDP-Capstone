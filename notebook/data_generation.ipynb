{
 "cells": [
  {
   "cell_type": "code",
   "execution_count": 1,
   "metadata": {},
   "outputs": [
    {
     "name": "stdout",
     "output_type": "stream",
     "text": [
      "Defaulting to user installation because normal site-packages is not writeable\n",
      "Requirement already satisfied: pandas in c:\\users\\wasadmin\\appdata\\roaming\\python\\python312\\site-packages (2.2.2)\n",
      "Requirement already satisfied: numpy>=1.26.0 in c:\\users\\wasadmin\\appdata\\roaming\\python\\python312\\site-packages (from pandas) (1.26.4)\n",
      "Requirement already satisfied: python-dateutil>=2.8.2 in c:\\users\\wasadmin\\appdata\\roaming\\python\\python312\\site-packages (from pandas) (2.9.0.post0)\n",
      "Requirement already satisfied: pytz>=2020.1 in c:\\users\\wasadmin\\appdata\\roaming\\python\\python312\\site-packages (from pandas) (2024.1)\n",
      "Requirement already satisfied: tzdata>=2022.7 in c:\\users\\wasadmin\\appdata\\roaming\\python\\python312\\site-packages (from pandas) (2024.1)\n",
      "Requirement already satisfied: six>=1.5 in c:\\users\\wasadmin\\appdata\\roaming\\python\\python312\\site-packages (from python-dateutil>=2.8.2->pandas) (1.16.0)\n"
     ]
    },
    {
     "name": "stderr",
     "output_type": "stream",
     "text": [
      "\n",
      "[notice] A new release of pip is available: 24.0 -> 24.1.2\n",
      "[notice] To update, run: python.exe -m pip install --upgrade pip\n"
     ]
    },
    {
     "name": "stdout",
     "output_type": "stream",
     "text": [
      "Defaulting to user installation because normal site-packages is not writeable\n",
      "Requirement already satisfied: DateTime in c:\\users\\wasadmin\\appdata\\roaming\\python\\python312\\site-packages (5.5)\n",
      "Requirement already satisfied: zope.interface in c:\\users\\wasadmin\\appdata\\roaming\\python\\python312\\site-packages (from DateTime) (6.4.post2)\n",
      "Requirement already satisfied: pytz in c:\\users\\wasadmin\\appdata\\roaming\\python\\python312\\site-packages (from DateTime) (2024.1)\n",
      "Requirement already satisfied: setuptools in c:\\users\\wasadmin\\appdata\\roaming\\python\\python312\\site-packages (from zope.interface->DateTime) (70.3.0)\n"
     ]
    },
    {
     "name": "stderr",
     "output_type": "stream",
     "text": [
      "\n",
      "[notice] A new release of pip is available: 24.0 -> 24.1.2\n",
      "[notice] To update, run: python.exe -m pip install --upgrade pip\n"
     ]
    },
    {
     "name": "stdout",
     "output_type": "stream",
     "text": [
      "Defaulting to user installation because normal site-packages is not writeable\n",
      "Requirement already satisfied: numpy in c:\\users\\wasadmin\\appdata\\roaming\\python\\python312\\site-packages (1.26.4)\n"
     ]
    },
    {
     "name": "stderr",
     "output_type": "stream",
     "text": [
      "\n",
      "[notice] A new release of pip is available: 24.0 -> 24.1.2\n",
      "[notice] To update, run: python.exe -m pip install --upgrade pip\n"
     ]
    }
   ],
   "source": [
    "! pip install pandas\n",
    "! pip install DateTime\n",
    "! pip install numpy"
   ]
  },
  {
   "cell_type": "code",
   "execution_count": 2,
   "metadata": {},
   "outputs": [],
   "source": [
    "import json\n",
    "import random\n",
    "from datetime import datetime, timedelta\n",
    "import pandas as pd"
   ]
  },
  {
   "cell_type": "code",
   "execution_count": 3,
   "metadata": {},
   "outputs": [],
   "source": [
    "# Generate random dates within a specified range\n",
    "def generate_random_date(start_date, end_date):\n",
    "    time_between_dates = end_date - start_date\n",
    "    days_between_dates = time_between_dates.days\n",
    "    random_number_of_days = random.randrange(days_between_dates)\n",
    "    random_date = start_date + timedelta(days=random_number_of_days)\n",
    "    return random_date"
   ]
  },
  {
   "cell_type": "code",
   "execution_count": 4,
   "metadata": {},
   "outputs": [
    {
     "data": {
      "text/plain": [
       "[]"
      ]
     },
     "execution_count": 4,
     "metadata": {},
     "output_type": "execute_result"
    }
   ],
   "source": [
    "order_history = []\n",
    "order_history"
   ]
  },
  {
   "cell_type": "code",
   "execution_count": 5,
   "metadata": {},
   "outputs": [],
   "source": [
    "# Define date range for random date generation \n",
    "end_date = datetime.now()\n",
    "start_date = end_date - timedelta(days=180) "
   ]
  },
  {
   "cell_type": "code",
   "execution_count": 6,
   "metadata": {},
   "outputs": [],
   "source": [
    "# Load users and products data from JSON files\n",
    "with open('../mongo/users.json', 'r') as f:\n",
    "    users = json.load(f)\n",
    "\n",
    "with open('../mongo/products.json', 'r') as f:\n",
    "    products = json.load(f)"
   ]
  },
  {
   "cell_type": "code",
   "execution_count": 7,
   "metadata": {},
   "outputs": [],
   "source": [
    "num_orders = 1000  # Number of orders to generate\n",
    "\n",
    "for _ in range(num_orders):\n",
    "    user = random.choice(users)\n",
    "    product = random.choice(products)\n",
    "    quantity = random.randint(1, 5)\n",
    "    order_date = datetime.now() - timedelta(days=random.randint(1, 365))\n",
    "\n",
    "    order_entry = {\n",
    "        'order_date': order_date,\n",
    "        'user_id': user['userid'],\n",
    "        'product_id': product['productID'],\n",
    "        'product_name': product['name'],\n",
    "        'product_category': product['category'],\n",
    "        'user_name': user['username']\n",
    "    }\n",
    "\n",
    "    order_history.append(order_entry)"
   ]
  },
  {
   "cell_type": "code",
   "execution_count": 8,
   "metadata": {},
   "outputs": [
    {
     "name": "stdout",
     "output_type": "stream",
     "text": [
      "Generated Order History:\n",
      "                  order_date     user_id  product_id      product_name  \\\n",
      "0 2023-10-12 14:49:48.142344  0006754277           9   Christopher Bag   \n",
      "1 2023-08-27 14:49:48.142344  3300024728          13     City of Stars   \n",
      "2 2024-03-28 14:49:48.142344  0000012364          18  LV Lace Necklace   \n",
      "3 2023-11-11 14:49:48.142344  4563534676           2        Camera Box   \n",
      "4 2024-02-11 14:49:48.142344  3300024728          10        Rider Boot   \n",
      "\n",
      "  product_category        user_name  \n",
      "0         Handbags      RosePetal22  \n",
      "1         Perfumes     TechWizard88  \n",
      "2          Jewelry   SapphireQueen7  \n",
      "3         Handbags  LavenderDream89  \n",
      "4            Shoes     TechWizard88  \n",
      "\n",
      "Order history saved to 'order_history.csv'\n"
     ]
    }
   ],
   "source": [
    "# Convert to DataFrame\n",
    "df = pd.DataFrame(order_history)\n",
    "\n",
    "# Display the first few rows of the generated data\n",
    "print(\"Generated Order History:\")\n",
    "print(df.head())\n",
    "\n",
    "# Save to CSV\n",
    "df.to_csv('order_history.csv', index=False)\n",
    "\n",
    "print(\"\\nOrder history saved to 'order_history.csv'\")"
   ]
  },
  {
   "cell_type": "code",
   "execution_count": 9,
   "metadata": {},
   "outputs": [
    {
     "data": {
      "text/html": [
       "<div>\n",
       "<style scoped>\n",
       "    .dataframe tbody tr th:only-of-type {\n",
       "        vertical-align: middle;\n",
       "    }\n",
       "\n",
       "    .dataframe tbody tr th {\n",
       "        vertical-align: top;\n",
       "    }\n",
       "\n",
       "    .dataframe thead th {\n",
       "        text-align: right;\n",
       "    }\n",
       "</style>\n",
       "<table border=\"1\" class=\"dataframe\">\n",
       "  <thead>\n",
       "    <tr style=\"text-align: right;\">\n",
       "      <th></th>\n",
       "      <th>order_date</th>\n",
       "      <th>user_id</th>\n",
       "      <th>product_id</th>\n",
       "      <th>product_name</th>\n",
       "      <th>product_category</th>\n",
       "      <th>user_name</th>\n",
       "    </tr>\n",
       "  </thead>\n",
       "  <tbody>\n",
       "    <tr>\n",
       "      <th>0</th>\n",
       "      <td>2023-10-12 14:49:48.142344</td>\n",
       "      <td>0006754277</td>\n",
       "      <td>9</td>\n",
       "      <td>Christopher Bag</td>\n",
       "      <td>Handbags</td>\n",
       "      <td>RosePetal22</td>\n",
       "    </tr>\n",
       "    <tr>\n",
       "      <th>1</th>\n",
       "      <td>2023-08-27 14:49:48.142344</td>\n",
       "      <td>3300024728</td>\n",
       "      <td>13</td>\n",
       "      <td>City of Stars</td>\n",
       "      <td>Perfumes</td>\n",
       "      <td>TechWizard88</td>\n",
       "    </tr>\n",
       "    <tr>\n",
       "      <th>2</th>\n",
       "      <td>2024-03-28 14:49:48.142344</td>\n",
       "      <td>0000012364</td>\n",
       "      <td>18</td>\n",
       "      <td>LV Lace Necklace</td>\n",
       "      <td>Jewelry</td>\n",
       "      <td>SapphireQueen7</td>\n",
       "    </tr>\n",
       "    <tr>\n",
       "      <th>3</th>\n",
       "      <td>2023-11-11 14:49:48.142344</td>\n",
       "      <td>4563534676</td>\n",
       "      <td>2</td>\n",
       "      <td>Camera Box</td>\n",
       "      <td>Handbags</td>\n",
       "      <td>LavenderDream89</td>\n",
       "    </tr>\n",
       "    <tr>\n",
       "      <th>4</th>\n",
       "      <td>2024-02-11 14:49:48.142344</td>\n",
       "      <td>3300024728</td>\n",
       "      <td>10</td>\n",
       "      <td>Rider Boot</td>\n",
       "      <td>Shoes</td>\n",
       "      <td>TechWizard88</td>\n",
       "    </tr>\n",
       "    <tr>\n",
       "      <th>...</th>\n",
       "      <td>...</td>\n",
       "      <td>...</td>\n",
       "      <td>...</td>\n",
       "      <td>...</td>\n",
       "      <td>...</td>\n",
       "      <td>...</td>\n",
       "    </tr>\n",
       "    <tr>\n",
       "      <th>995</th>\n",
       "      <td>2023-08-06 14:49:48.155355</td>\n",
       "      <td>0006754277</td>\n",
       "      <td>6</td>\n",
       "      <td>Trainer Sneaker</td>\n",
       "      <td>Shoes</td>\n",
       "      <td>RosePetal22</td>\n",
       "    </tr>\n",
       "    <tr>\n",
       "      <th>996</th>\n",
       "      <td>2023-09-26 14:49:48.155355</td>\n",
       "      <td>2200012364</td>\n",
       "      <td>17</td>\n",
       "      <td>Louisa Hair Clip</td>\n",
       "      <td>Jewelry</td>\n",
       "      <td>PinkUnicorn42</td>\n",
       "    </tr>\n",
       "    <tr>\n",
       "      <th>997</th>\n",
       "      <td>2023-12-01 14:49:48.155355</td>\n",
       "      <td>2200012364</td>\n",
       "      <td>12</td>\n",
       "      <td>Perfumes Miniature Set</td>\n",
       "      <td>Perfumes</td>\n",
       "      <td>PinkUnicorn42</td>\n",
       "    </tr>\n",
       "    <tr>\n",
       "      <th>998</th>\n",
       "      <td>2024-05-15 14:49:48.155355</td>\n",
       "      <td>0000012364</td>\n",
       "      <td>13</td>\n",
       "      <td>City of Stars</td>\n",
       "      <td>Perfumes</td>\n",
       "      <td>SapphireQueen7</td>\n",
       "    </tr>\n",
       "    <tr>\n",
       "      <th>999</th>\n",
       "      <td>2024-01-05 14:49:48.155355</td>\n",
       "      <td>1000012364</td>\n",
       "      <td>9</td>\n",
       "      <td>Christopher Bag</td>\n",
       "      <td>Handbags</td>\n",
       "      <td>MermaidWish55</td>\n",
       "    </tr>\n",
       "  </tbody>\n",
       "</table>\n",
       "<p>1000 rows × 6 columns</p>\n",
       "</div>"
      ],
      "text/plain": [
       "                    order_date     user_id  product_id  \\\n",
       "0   2023-10-12 14:49:48.142344  0006754277           9   \n",
       "1   2023-08-27 14:49:48.142344  3300024728          13   \n",
       "2   2024-03-28 14:49:48.142344  0000012364          18   \n",
       "3   2023-11-11 14:49:48.142344  4563534676           2   \n",
       "4   2024-02-11 14:49:48.142344  3300024728          10   \n",
       "..                         ...         ...         ...   \n",
       "995 2023-08-06 14:49:48.155355  0006754277           6   \n",
       "996 2023-09-26 14:49:48.155355  2200012364          17   \n",
       "997 2023-12-01 14:49:48.155355  2200012364          12   \n",
       "998 2024-05-15 14:49:48.155355  0000012364          13   \n",
       "999 2024-01-05 14:49:48.155355  1000012364           9   \n",
       "\n",
       "               product_name product_category        user_name  \n",
       "0           Christopher Bag         Handbags      RosePetal22  \n",
       "1             City of Stars         Perfumes     TechWizard88  \n",
       "2          LV Lace Necklace          Jewelry   SapphireQueen7  \n",
       "3                Camera Box         Handbags  LavenderDream89  \n",
       "4                Rider Boot            Shoes     TechWizard88  \n",
       "..                      ...              ...              ...  \n",
       "995         Trainer Sneaker            Shoes      RosePetal22  \n",
       "996        Louisa Hair Clip          Jewelry    PinkUnicorn42  \n",
       "997  Perfumes Miniature Set         Perfumes    PinkUnicorn42  \n",
       "998           City of Stars         Perfumes   SapphireQueen7  \n",
       "999         Christopher Bag         Handbags    MermaidWish55  \n",
       "\n",
       "[1000 rows x 6 columns]"
      ]
     },
     "execution_count": 9,
     "metadata": {},
     "output_type": "execute_result"
    }
   ],
   "source": [
    "df"
   ]
  }
 ],
 "metadata": {
  "kernelspec": {
   "display_name": "Python 3",
   "language": "python",
   "name": "python3"
  },
  "language_info": {
   "codemirror_mode": {
    "name": "ipython",
    "version": 3
   },
   "file_extension": ".py",
   "mimetype": "text/x-python",
   "name": "python",
   "nbconvert_exporter": "python",
   "pygments_lexer": "ipython3",
   "version": "3.12.3"
  }
 },
 "nbformat": 4,
 "nbformat_minor": 2
}
